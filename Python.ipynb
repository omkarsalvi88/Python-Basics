{
  "nbformat": 4,
  "nbformat_minor": 0,
  "metadata": {
    "colab": {
      "provenance": []
    },
    "kernelspec": {
      "name": "python3",
      "display_name": "Python 3"
    },
    "language_info": {
      "name": "python"
    }
  },
  "cells": [
    {
      "cell_type": "markdown",
      "source": [
        "PYTHON\n"
      ],
      "metadata": {
        "id": "57yqHQBijBE7"
      }
    },
    {
      "cell_type": "markdown",
      "source": [
        "Theorotical Questions\n",
        "\n",
        "1. What is Python, and why is it popular ?\n",
        " -   Python is a high-level, interpreted, general-purpose programming language, It is popular because it has various advantages over othe languages like for ex.\n",
        "     *   Easy to learn\n",
        "     *   Support of Extensive libraries\n",
        "     *   Scalability and versatility\n",
        "     *   Strong community\n",
        "     *   Integration capability\n",
        "     *   Open source cost effective software.\n",
        "\n",
        "2. What is an interpreter in Python ?\n",
        " -   Interpreter in python converts high level code into a language understandable to the machine or computer. It acts as a bridge for communication between man and machine.\n",
        "\n",
        "3. What are pre-defined keywords in Python ?\n",
        " -  Predfined keywords in Python are as follows\n",
        "\n",
        "    *   True                               \n",
        "    *   except\n",
        "    *   finally\n",
        "    *   for\n",
        "    *   from\n",
        "    *   global\n",
        "    *   if\n",
        "    *   import\n",
        "    *   in\n",
        "    *   is\n",
        "    *   lambda\n",
        "    *   nonlocal\n",
        "    *   not\n",
        "    *   or\n",
        "    *   pass\n",
        "    *   raise\n",
        "    *   return\n",
        "    *   try\n",
        "    *   while\n",
        "    *   with\n",
        "    *   yield                          \n",
        "    *   False\n",
        "    *   None\n",
        "    *   and\n",
        "    *   as\n",
        "    *   assert\n",
        "    *   async\n",
        "    *   await\n",
        "    *   break\n",
        "    *   class\n",
        "    *   continue\n",
        "    *   def\n",
        "    *   del\n",
        "    *   else\n",
        "    *   elif\n",
        "    *   except\n",
        "    *   finally\n",
        "    *   for\n",
        "    *   from\n",
        "    *   global\n",
        "    *   if\n",
        "    *   import\n",
        "    *   in\n",
        "    *   is\n",
        "    *   lambda\n",
        "    *   nonlocal\n",
        "    *   not\n",
        "    *   or\n",
        "    *   pass\n",
        "    *   raise\n",
        "    *   return\n",
        "    *   try\n",
        "    *   while\n",
        "    *   with\n",
        "    *   yield\n",
        "\n",
        "4. Can keywords be used as variable names ?\n",
        " -  No, keywords cannot be used as variable names, if used will throw a syntax error as they are assigned as language core syntax and the interpreter will fail to understand them.\n",
        "\n",
        "5. What is mutability in Python ?\n",
        " - Mutability is ability to alter a created object without a need of creating a new object.Mutable objects let multiple variables reference the same object and any change affects all references. Examples of mutable types are list, dict, set & bytearray.\n",
        "\n",
        "6. Why are lists mutable, but tuples are immutable ?\n",
        " -  The core distinction is straightforward—lists allow in-place changes (e.g. modification, insertion, deletion), while tuples do not. Tuples dont support methods like .append() or item assignment, so their content can't be altered after creation.\n",
        "\n",
        "7. What is the difference between “==” and “is” operators in Python ?\n",
        " -  \"==\" is used when you want to check if things have the same value, like comparing numbers, strings, lists, etc. while \"is\" is used or checking whether something is exactly the same object, such as comparing to None.\n",
        "\n",
        "8.  What are logical operators in Python ?\n",
        " - Python has logical operators used for decision making in multiple conditions provided. There are three main logical operators:\n",
        "      *  and : Needs both statements true.\n",
        "      *  or  : Atleast one statement needs to be true.\n",
        "      *  not : Flips True to False and vice versa.\n",
        "\n",
        "9. What is type casting in Python ?\n",
        " -  Type casting is a phenomenon used to change a data type to another.There are tow types of type casting : Implicit type casting & Explicit type casting\n",
        "\n",
        "10. What is the difference between implicit and explicit type casting ?\n",
        " -  Implicit type of casting refers to automatic changing of data type done by python itself while Explicit type of casting refers to manual way of changing data types done by programmers.\n",
        "\n",
        "11.  What is the purpose of conditional statements in Python ?\n",
        " -   Conditional statements are used in python in order to deal with various evaluated conditions where decision based actions are taken considering the specific scenarious provided. It helps in managing errors,invalid inputs and unexpected situations. It thus makes the code robust.\n",
        "\n",
        "12. How does the elif statement work ?\n",
        " -  elif statement refers to shorter version of \"else if\", which when used then as soon as the conditions is met, the program leaves the block and dont test further.\n",
        "\n",
        "13. What is the difference between for and while loops ?\n",
        " -  \"for\" loop is used when we want to repeat something a known number of times or go through each item in a list & \"while\" loop is used when we want to keep doing something until a certain condition changes—especially when we dont know how many repetitions will be needed upfront.\n",
        "\n",
        "14. Describe a scenario where a while loop is more suitable than a for loop.\n",
        " -  When considering whether to use a \"While Loop\" or a \"For Loop,\" it's important to look at the nature of the task at hand. Each type of loop has situations where it is best applied:\n",
        "While Loop: This is ideal when you want the loop to continue executing as long as a certain condition is true. The exact number of iterations isn't known beforehand. It checks the condition before each iteration, making it suitable for scenarios where you're waiting for a particular state or condition to be fulfilled.\n",
        "  For Loop: This loop is used when you know ahead of time how many times you want to run the loop. It is great for iterating over a specific range, a fixed number of times, or over a collection of elements (like items in a list).\n",
        "Scenario for \"While Loop\":\n",
        "Imagine a situation where you are reading data from a file until you reach the end. You don't know how many lines the file contains, so you need a loop that keeps reading line by line until there are no more lines to read. In such a case, a \"While Loop\" is more appropriate because the number of iterations needed isn't known in advance—it depends on the file's content.\n",
        "\n",
        "\n",
        "\n",
        "\n",
        "\n",
        "\n",
        "\n",
        "\n",
        "\n",
        "\n",
        "\n",
        "\n"
      ],
      "metadata": {
        "id": "t9V_H31JjJXy"
      }
    },
    {
      "cell_type": "code",
      "source": [
        "#Practical questions\n",
        "\n",
        "#1. Write a Python program to print \"Hello, World!\"\n",
        "\n",
        "print(\"Hello, World!\")"
      ],
      "metadata": {
        "colab": {
          "base_uri": "https://localhost:8080/"
        },
        "id": "PbvYzdQcdhLm",
        "outputId": "442e6005-ef7c-47e7-cc2b-6f2fa16d5cb1"
      },
      "execution_count": null,
      "outputs": [
        {
          "output_type": "stream",
          "name": "stdout",
          "text": [
            "Hello, World!\n"
          ]
        }
      ]
    },
    {
      "cell_type": "code",
      "source": [
        "#2. Write a Python program that displays your name and age\n",
        "\n",
        "name = input(\"Please Enter Your Name : \")\n",
        "age = int(input(\"Enter Your Age : \"))\n",
        "\n",
        "print(f\"Name : {name}, Age : {age}\")\n"
      ],
      "metadata": {
        "colab": {
          "base_uri": "https://localhost:8080/"
        },
        "id": "V9cIhFXDd5rw",
        "outputId": "39c55e57-375c-4caa-98db-674c157e1cc1"
      },
      "execution_count": null,
      "outputs": [
        {
          "output_type": "stream",
          "name": "stdout",
          "text": [
            "Please Enter Your Name : Onkar\n",
            "Enter Your Age : 27\n",
            "Name : Onkar, Age : 27\n"
          ]
        }
      ]
    },
    {
      "cell_type": "code",
      "source": [
        "#3. Write code to print all the pre-defined keywords in Python using the keyword library\n",
        "\n",
        "help('keywords')\n"
      ],
      "metadata": {
        "colab": {
          "base_uri": "https://localhost:8080/"
        },
        "id": "VfPHG2VbgSDI",
        "outputId": "34d9b072-6b76-4f06-9e04-78e2279665ab"
      },
      "execution_count": null,
      "outputs": [
        {
          "output_type": "stream",
          "name": "stdout",
          "text": [
            "\n",
            "Here is a list of the Python keywords.  Enter any keyword to get more help.\n",
            "\n",
            "False               class               from                or\n",
            "None                continue            global              pass\n",
            "True                def                 if                  raise\n",
            "and                 del                 import              return\n",
            "as                  elif                in                  try\n",
            "assert              else                is                  while\n",
            "async               except              lambda              with\n",
            "await               finally             nonlocal            yield\n",
            "break               for                 not                 \n",
            "\n"
          ]
        }
      ]
    },
    {
      "cell_type": "code",
      "source": [
        "#4. Write a program that checks if a given word is a Python keyword\n",
        "\n",
        "s = 'for'\n",
        "if keyword.iskeyword(s):\n",
        "    print(f\"'{s}' is a Python keyword.\")\n",
        "else:\n",
        "    print(f\"'{s}' is not a Python keyword.\")"
      ],
      "metadata": {
        "colab": {
          "base_uri": "https://localhost:8080/"
        },
        "id": "YZgWSwxzhCyE",
        "outputId": "bac305ca-3d20-4099-c917-a2dcd57c0d58"
      },
      "execution_count": null,
      "outputs": [
        {
          "output_type": "stream",
          "name": "stdout",
          "text": [
            "'for' is a Python keyword.\n"
          ]
        }
      ]
    },
    {
      "cell_type": "code",
      "source": [
        "#5. Create a list and tuple in Python, and demonstrate how attempting to change an element works differently for each\n",
        "\n",
        "my_list = [40, 50, 60, 70, 80, 90]\n",
        "my_tuple = (40, 50, 60, 70, 80, 90)\n",
        "\n",
        "print(\"Original list:\", my_list)\n",
        "print(\"Original tuple:\", my_tuple)\n",
        "my_list[0] = 99\n",
        "print(\"\\nModified list (first element changed):\", my_list)\n",
        "\n",
        "try:\n",
        "    my_tuple[0] = 99\n",
        "except TypeError as e:\n",
        "    print(\"\\nAttempted to change tuple element resulted in error:\")\n",
        "    print(type(e).__name__ + \":\", e)"
      ],
      "metadata": {
        "colab": {
          "base_uri": "https://localhost:8080/"
        },
        "id": "RGWRi3QfiFN8",
        "outputId": "4b329ed0-9b1a-4595-903a-fe8efea28c74"
      },
      "execution_count": null,
      "outputs": [
        {
          "output_type": "stream",
          "name": "stdout",
          "text": [
            "Original list: [40, 50, 60, 70, 80, 90]\n",
            "Original tuple: (40, 50, 60, 70, 80, 90)\n",
            "\n",
            "Modified list (first element changed): [99, 50, 60, 70, 80, 90]\n",
            "\n",
            "Attempted to change tuple element resulted in error:\n",
            "TypeError: 'tuple' object does not support item assignment\n"
          ]
        }
      ]
    },
    {
      "cell_type": "code",
      "source": [
        "#6. Write a function to demonstrate the behavior of mutable and immutable arguments\n",
        "\n",
        "def modify_arguments(mutable_arg, immutable_arg):\n",
        "    mutable_arg.append(100)\n",
        "    immutable_arg += 10\n",
        "    return mutable_arg, immutable_arg\n",
        "my_list = [1, 2, 3]\n",
        "my_integer = 5\n",
        "modified_list, modified_integer = modify_arguments(my_list, my_integer)\n",
        "print(\"Modified List:\", modified_list)\n",
        "print(\"Original List:\", my_list)\n",
        "print(\"Modified Integer:\", modified_integer)\n",
        "print(\"Original Integer:\", my_integer)\n"
      ],
      "metadata": {
        "colab": {
          "base_uri": "https://localhost:8080/"
        },
        "id": "A0USHli6jDH5",
        "outputId": "811de2a3-3a07-41a8-831e-083daf660ea6"
      },
      "execution_count": null,
      "outputs": [
        {
          "output_type": "stream",
          "name": "stdout",
          "text": [
            "Modified List: [1, 2, 3, 100]\n",
            "Original List: [1, 2, 3, 100]\n",
            "Modified Integer: 15\n",
            "Original Integer: 5\n"
          ]
        }
      ]
    },
    {
      "cell_type": "code",
      "source": [
        "#7.  Write a program that performs basic arithmetic operations on two user-input numbers.\n",
        "\n",
        "def get_user_input():\n",
        "    try:\n",
        "        num1 = float(input(\"Enter the first number: \"))\n",
        "        num2 = float(input(\"Enter the second number: \"))\n",
        "        return num1, num2\n",
        "    except ValueError:\n",
        "        print(\"Invalid input. Please enter numeric values.\")\n",
        "        return get_user_input()\n",
        "def display_operations():\n",
        "    print(\"Select an operation:\")\n",
        "    print(\"1. Addition (+)\")\n",
        "    print(\"2. Subtraction (-)\")\n",
        "    print(\"3. Multiplication (*)\")\n",
        "    print(\"4. Division (/)\")\n",
        "def perform_operation(num1, num2, operation):\n",
        "    if operation == '1':\n",
        "        return num1 + num2\n",
        "    elif operation == '2':\n",
        "        return num1 - num2\n",
        "    elif operation == '3':\n",
        "        return num1 * num2\n",
        "    elif operation == '4':\n",
        "        if num2 != 0:\n",
        "            return num1 / num2\n",
        "        else:\n",
        "            return \"Error: Division by zero is not allowed.\"\n",
        "    else:\n",
        "        return \"Invalid operation selected.\"\n",
        "def main():\n",
        "    num1, num2 = get_user_input()\n",
        "    display_operations()\n",
        "    operation = input(\"Enter the number corresponding to the operation: \")\n",
        "    result = perform_operation(num1, num2, operation)\n",
        "    print(f\"The result is: {result}\")\n",
        "if __name__ == \"__main__\":\n",
        "    main()\n"
      ],
      "metadata": {
        "colab": {
          "base_uri": "https://localhost:8080/"
        },
        "id": "ZP7MCBLPlpVU",
        "outputId": "113f2992-e13e-4d40-e3e0-dd6ce8da146c"
      },
      "execution_count": null,
      "outputs": [
        {
          "output_type": "stream",
          "name": "stdout",
          "text": [
            "Enter the first number: 25\n",
            "Enter the second number: 35\n",
            "Select an operation:\n",
            "1. Addition (+)\n",
            "2. Subtraction (-)\n",
            "3. Multiplication (*)\n",
            "4. Division (/)\n",
            "Enter the number corresponding to the operation: 1\n",
            "The result is: 60.0\n"
          ]
        }
      ]
    },
    {
      "cell_type": "code",
      "source": [
        "#8. Write a program to demonstrate the use of logical operators\n",
        "\n",
        "def evaluate_logical_operators(a, b):\n",
        "    print(f\"Evaluating with a = {a} and b = {b}:\")\n",
        "    and_result = a and b\n",
        "    print(f\"Result of a and b: {and_result}\")\n",
        "    or_result = a or b\n",
        "    print(f\"Result of a or b: {or_result}\")\n",
        "    not_a = not a\n",
        "    not_b = not b\n",
        "    print(f\"Result of not a: {not_a}\")\n",
        "    print(f\"Result of not b: {not_b}\")\n",
        "a = input(\"Enter the first boolean value (True/False): \")\n",
        "b = input(\"Enter the second boolean value (True/False): \")\n",
        "a = a.strip().lower() == 'true'\n",
        "b = b.strip().lower() == 'true'\n",
        "evaluate_logical_operators(a, b)\n"
      ],
      "metadata": {
        "colab": {
          "base_uri": "https://localhost:8080/"
        },
        "id": "TuVdhkj0m9Ys",
        "outputId": "e9ad0bc8-e0c8-49dc-ba6b-7629676245da"
      },
      "execution_count": null,
      "outputs": [
        {
          "output_type": "stream",
          "name": "stdout",
          "text": [
            "Enter the first boolean value (True/False): True\n",
            "Enter the second boolean value (True/False): Fasle\n",
            "Evaluating with a = True and b = False:\n",
            "Result of a and b: False\n",
            "Result of a or b: True\n",
            "Result of not a: False\n",
            "Result of not b: True\n"
          ]
        }
      ]
    },
    {
      "cell_type": "code",
      "source": [
        "#9. Write a Python program to convert user input from string to integer, float, and boolean types.\n",
        "\n",
        "user_input = input(\"Please enter a value: \")\n",
        "try:\n",
        "    integer_value = int(user_input)\n",
        "    print(f\"Integer value: {integer_value}\")\n",
        "except ValueError:\n",
        "    print(\"The input cannot be converted to an integer.\")\n",
        "try:\n",
        "    float_value = float(user_input)\n",
        "    print(f\"Float value: {float_value}\")\n",
        "except ValueError:\n",
        "    print(\"The input cannot be converted to a float.\")\n",
        "boolean_value = bool(user_input)\n",
        "print(f\"Boolean value: {boolean_value}\")\n"
      ],
      "metadata": {
        "colab": {
          "base_uri": "https://localhost:8080/"
        },
        "id": "ib-VGNK1nbrz",
        "outputId": "3d6fe6e3-4abc-4f96-ea3e-c79262d80b3a"
      },
      "execution_count": null,
      "outputs": [
        {
          "output_type": "stream",
          "name": "stdout",
          "text": [
            "Please enter a value: 25\n",
            "Integer value: 25\n",
            "Float value: 25.0\n",
            "Boolean value: True\n"
          ]
        }
      ]
    },
    {
      "cell_type": "code",
      "source": [
        "#10. Write code to demonstrate type casting with list elements\n",
        "\n",
        "mixed_list = [1, 2.5, '3', 4, '5.0']\n",
        "print(\"Original List:\", mixed_list)\n",
        "casted_list = []\n",
        "for element in mixed_list:\n",
        "    if isinstance(element, str):\n",
        "        casted_list.append(int(float(element)))\n",
        "    else:\n",
        "        casted_list.append(int(element))\n",
        "print(\"Casted List (to integers):\", casted_list)\n",
        "mixed_list = [1, 2.5, '3', 4, '5.0']\n",
        "print(\"Original List:\", mixed_list)\n",
        "casted_list = []\n",
        "for element in mixed_list:\n",
        "    if isinstance(element, str):\n",
        "\n",
        "        casted_list.append(int(float(element)))\n",
        "    else:\n",
        "        casted_list.append(int(element))\n",
        "\n",
        "print(\"Casted List (to integers):\", casted_list)\n"
      ],
      "metadata": {
        "colab": {
          "base_uri": "https://localhost:8080/"
        },
        "id": "XKBmNsUMnubb",
        "outputId": "455a929c-db76-479e-f90a-62e2e680e4e3"
      },
      "execution_count": null,
      "outputs": [
        {
          "output_type": "stream",
          "name": "stdout",
          "text": [
            "Original List: [1, 2.5, '3', 4, '5.0']\n",
            "Casted List (to integers): [1, 2, 3, 4, 5]\n",
            "Original List: [1, 2.5, '3', 4, '5.0']\n",
            "Casted List (to integers): [1, 2, 3, 4, 5]\n"
          ]
        }
      ]
    },
    {
      "cell_type": "code",
      "source": [
        "#11.  Write a program that checks if a number is positive, negative, or zero.\n",
        "\n",
        "number = float(input(\"Please enter a number: \"))\n",
        "if number > 0:\n",
        "    print(\"The number is positive.\")\n",
        "elif number < 0:\n",
        "    print(\"The number is negative.\")\n",
        "else:\n",
        "    print(\"The number is zero.\")\n"
      ],
      "metadata": {
        "colab": {
          "base_uri": "https://localhost:8080/"
        },
        "id": "AeLddTDtoQrY",
        "outputId": "11ae8b38-d9ff-49c7-a555-71aa516e90cb"
      },
      "execution_count": null,
      "outputs": [
        {
          "output_type": "stream",
          "name": "stdout",
          "text": [
            "Please enter a number: 20\n",
            "The number is positive.\n"
          ]
        }
      ]
    },
    {
      "cell_type": "code",
      "source": [
        "#12. Write a for loop to print numbers from 1 to 10\n",
        "\n",
        "for number in range(1, 11):\n",
        "    print(number)\n"
      ],
      "metadata": {
        "colab": {
          "base_uri": "https://localhost:8080/"
        },
        "id": "iyWOiLbuok08",
        "outputId": "229fd422-f613-4cc1-f0f6-db8904da07b9"
      },
      "execution_count": null,
      "outputs": [
        {
          "output_type": "stream",
          "name": "stdout",
          "text": [
            "1\n",
            "2\n",
            "3\n",
            "4\n",
            "5\n",
            "6\n",
            "7\n",
            "8\n",
            "9\n",
            "10\n"
          ]
        }
      ]
    },
    {
      "cell_type": "code",
      "source": [
        "#13. Write a Python program to find the sum of all even numbers between 1 and 50.\n",
        "\n",
        "total_sum = 0\n",
        "for number in range(1, 51):\n",
        "    if number % 2 == 0:\n",
        "        total_sum += number\n",
        "print(\"The sum of all even numbers between 1 and 50 is:\", total_sum)\n"
      ],
      "metadata": {
        "colab": {
          "base_uri": "https://localhost:8080/"
        },
        "id": "0-Uqgplto3Kp",
        "outputId": "049c5fa6-f63b-4ed8-984c-f2c04aaebd11"
      },
      "execution_count": null,
      "outputs": [
        {
          "output_type": "stream",
          "name": "stdout",
          "text": [
            "The sum of all even numbers between 1 and 50 is: 650\n"
          ]
        }
      ]
    },
    {
      "cell_type": "code",
      "source": [
        "#14.  Write a program to reverse a string using a while loop.\n",
        "\n",
        "def reverse_string(input_string):\n",
        "    reversed_string = \"\"\n",
        "    index = len(input_string) - 1\n",
        "\n",
        "    while index >= 0:\n",
        "        reversed_string += input_string[index]\n",
        "        index -= 1\n",
        "\n",
        "    return reversed_string\n",
        "original_string = \"Hello, World!\"\n",
        "reversed_result = reverse_string(original_string)\n",
        "print(reversed_result)\n"
      ],
      "metadata": {
        "colab": {
          "base_uri": "https://localhost:8080/"
        },
        "id": "1i0Nt9fNrLo6",
        "outputId": "48a9f8dd-96b4-4aca-9059-f9aade0382de"
      },
      "execution_count": null,
      "outputs": [
        {
          "output_type": "stream",
          "name": "stdout",
          "text": [
            "!dlroW ,olleH\n"
          ]
        }
      ]
    },
    {
      "cell_type": "code",
      "source": [
        "#15.  Write a Python program to calculate the factorial of a number provided by the user using a while loop.\n",
        "\n",
        "def factorial(n):\n",
        "    result = 1\n",
        "    while n > 1:\n",
        "        result *= n\n",
        "        n -= 1\n",
        "    return result\n",
        "try:\n",
        "    number = int(input(\"Enter a non-negative integer: \"))\n",
        "    if number < 0:\n",
        "        print(\"Factorial is not defined for negative numbers.\")\n",
        "    else:\n",
        "        print(f\"The factorial of {number} is {factorial(number)}.\")\n",
        "except ValueError:\n",
        "    print(\"Please enter a valid integer.\")\n"
      ],
      "metadata": {
        "colab": {
          "base_uri": "https://localhost:8080/"
        },
        "id": "JMgXH1NNrbc4",
        "outputId": "29b3c7e4-481d-450f-a96c-4a4c532c40f6"
      },
      "execution_count": null,
      "outputs": [
        {
          "output_type": "stream",
          "name": "stdout",
          "text": [
            "Enter a non-negative integer: 25\n",
            "The factorial of 25 is 15511210043330985984000000.\n"
          ]
        }
      ]
    }
  ]
}